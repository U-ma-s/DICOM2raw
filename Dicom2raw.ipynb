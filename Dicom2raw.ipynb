{
 "cells": [
  {
   "cell_type": "markdown",
   "metadata": {},
   "source": [
    "### やりたいこと\n",
    "- compressed dicomを読み込む\n",
    "- rawファイルに書き出す\n",
    " - P9990001.raw,P9990002.raw,... みたいにしてこれ以降の処理は従来通りにする？\n",
    " - それともfps落として匿名化する作業（delete.exec?）もpythonでやる？<-deleteの内容わかんないしめんどいか\n",
    "- これまでのやり方で出力されていたP111****.rawは24bitRGBで3チャンネルに全部同じ値が入っていた"
   ]
  },
  {
   "cell_type": "code",
   "execution_count": 1,
   "metadata": {},
   "outputs": [],
   "source": [
    "# パッケージのimport\n",
    "import pydicom\n",
    "import matplotlib.pyplot as plt\n",
    "import numpy as np\n",
    "import os"
   ]
  },
  {
   "cell_type": "code",
   "execution_count": 2,
   "metadata": {},
   "outputs": [
    {
     "name": "stdout",
     "output_type": "stream",
     "text": [
      "(3122, 768, 1024, 3)\n",
      "uint8\n"
     ]
    }
   ],
   "source": [
    "# dicomファイルの読み込み\n",
    "casename = 'P296'\n",
    "mydicom = pydicom.read_file('./input/'+casename+'/IM-0001-0015.dcm')\n",
    "tmp = mydicom.pixel_array\n",
    "print(tmp.shape) # (スライス数, Height, Weight, チャネル数)になってる方を使う\n",
    "print(tmp.dtype)"
   ]
  },
  {
   "cell_type": "code",
   "execution_count": 3,
   "metadata": {},
   "outputs": [],
   "source": [
    "# 24bit RGB画像として連番でraw出力\n",
    "h = tmp.shape[1]\n",
    "w = tmp.shape[2]\n",
    "os.makedirs(os.path.join('./output',casename),exist_ok=False)\n",
    "for i in range(tmp.shape[0]):\n",
    "    index = str(i).zfill(4)\n",
    "    #１枚だけ保存できる領域を作って\n",
    "    img = np.zeros((h, w, 3), dtype=\"uint8\")\n",
    "    #それにデータをコピーする \n",
    "    img[:,:,0] = mydicom.pixel_array[i,:,:,0].copy()\n",
    "    img[:,:,1] = mydicom.pixel_array[i,:,:,0].copy()\n",
    "    img[:,:,2] = mydicom.pixel_array[i,:,:,0].copy()\n",
    "    img.tofile('./output/'+casename+'/'+casename+index+'.raw')"
   ]
  },
  {
   "cell_type": "code",
   "execution_count": null,
   "metadata": {},
   "outputs": [],
   "source": [
    "plt.imshow(tmp[100,:,:,0], cmap='gray')#0チャンネル目の値を使うのがいいかな\n",
    "plt.show()\n",
    "# print(tmp[0,10,10,0])\n",
    "# print(tmp[0,10,10,1])\n",
    "# print(tmp[0,10,10,2])"
   ]
  },
  {
   "cell_type": "code",
   "execution_count": null,
   "metadata": {},
   "outputs": [],
   "source": []
  }
 ],
 "metadata": {
  "kernelspec": {
   "display_name": "pancreas3",
   "language": "python",
   "name": "python3"
  },
  "language_info": {
   "codemirror_mode": {
    "name": "ipython",
    "version": 3
   },
   "file_extension": ".py",
   "mimetype": "text/x-python",
   "name": "python",
   "nbconvert_exporter": "python",
   "pygments_lexer": "ipython3",
   "version": "3.8.16"
  },
  "orig_nbformat": 4,
  "vscode": {
   "interpreter": {
    "hash": "a8522f0c3e458092ff9b828166e7aa23aca94cbe9adff07e7e5dc897d8ade49a"
   }
  }
 },
 "nbformat": 4,
 "nbformat_minor": 2
}
